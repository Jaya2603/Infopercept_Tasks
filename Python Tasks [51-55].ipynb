{
 "cells": [
  {
   "cell_type": "code",
   "execution_count": 1,
   "id": "0a7f47c1",
   "metadata": {},
   "outputs": [
    {
     "name": "stdout",
     "output_type": "stream",
     "text": [
      "Enter the number: 6\n",
      "0, 1, 1, 2, 3, 5\n",
      "Sum of the first 6 terms of the Fibonacci series is: 12\n"
     ]
    }
   ],
   "source": [
    "# 51] Write a Python Program to do the addition of the first n terms of the fibonacci series.\n",
    "\n",
    "def fibonacci_sum(n):\n",
    "    a = 0  \n",
    "    b = 1 \n",
    "    total = 0\n",
    "    count = 0  \n",
    "\n",
    "    if n >= 1:\n",
    "        print(a, end=\", \")\n",
    "        total += a\n",
    "        count += 1\n",
    "\n",
    "    if n >= 2:\n",
    "        print(b, end=\", \")\n",
    "        total += b\n",
    "        count += 1\n",
    "\n",
    "    while count < n:\n",
    "        c = a + b\n",
    "        a = b\n",
    "        b = c\n",
    "        total += c\n",
    "        count += 1\n",
    "\n",
    "        if count == n:\n",
    "            print(c)  \n",
    "        else:\n",
    "            print(c, end=\", \")\n",
    "\n",
    "    return total\n",
    "\n",
    "n = int(input(\"Enter the number: \"))\n",
    "if n <= 0:\n",
    "    print(\"Please enter a positive integer.\")\n",
    "else:\n",
    "    print(f\"Sum of the first {n} terms of the Fibonacci series is: {fibonacci_sum(n)}\")"
   ]
  },
  {
   "cell_type": "code",
   "execution_count": 2,
   "id": "89e4570f",
   "metadata": {},
   "outputs": [
    {
     "name": "stdout",
     "output_type": "stream",
     "text": [
      "Enter a number: 6\n",
      "The first 6 prime numbers are: [2, 3, 5, 7, 11, 13]\n"
     ]
    }
   ],
   "source": [
    "# 52] Write a program to find first N prime number.\n",
    "\n",
    "def is_prime(n):\n",
    "    if n <= 1:\n",
    "        return False\n",
    "    \n",
    "    i = 2\n",
    "    while i * i <= n:  \n",
    "        if n % i == 0:\n",
    "            return False\n",
    "        i += 1\n",
    "    return True\n",
    "\n",
    "def firstprime(number):\n",
    "    primes = []\n",
    "    num = 2  \n",
    "    while len(primes) < number:\n",
    "        if is_prime(num):  \n",
    "            primes.append(num)  \n",
    "        num += 1  \n",
    "    return primes\n",
    "\n",
    "number = int(input(\"Enter a number: \"))\n",
    "print(f\"The first {number} prime numbers are: {firstprime(number)}\")"
   ]
  },
  {
   "cell_type": "code",
   "execution_count": 3,
   "id": "f9e4814f",
   "metadata": {},
   "outputs": [
    {
     "name": "stdout",
     "output_type": "stream",
     "text": [
      "Enter a number: 8\n",
      "2 3 5 9 17 33 65 129 "
     ]
    }
   ],
   "source": [
    "# 53] Generate following series.\n",
    "# 2\t3\t5\t9\t17\t33\t65\t…….n\n",
    "\n",
    "def calc(n):\n",
    "    a = 2\n",
    "    for i in range(n):\n",
    "        print(a, end=\" \")\n",
    "        a = a * 2 - 1\n",
    "\n",
    "n = int(input(\"Enter a number: \"))\n",
    "calc(n)"
   ]
  },
  {
   "cell_type": "code",
   "execution_count": 4,
   "id": "627f523e",
   "metadata": {},
   "outputs": [
    {
     "name": "stdout",
     "output_type": "stream",
     "text": [
      "Enter the number of rows: 5\n",
      "1 \n",
      "2 3 \n",
      "4 5 6 \n",
      "7 8 9 10 \n",
      "11 12 13 14 15 \n"
     ]
    }
   ],
   "source": [
    "# 54] Write a program to generate following output\n",
    "# 1\n",
    "# 4  5\n",
    "# 9  10  11\n",
    "# 16 17  18  19\n",
    "# .\n",
    "# n\n",
    "\n",
    "def display(n):\n",
    "    value = 1\n",
    "\n",
    "    for i in range(1, n+1):\n",
    "        for j in range(1, i+1):\n",
    "            print(value, end=\" \")\n",
    "            value += 1\n",
    "        print()  \n",
    "\n",
    "n = int(input(\"Enter the number of rows: \"))\n",
    "display(n)"
   ]
  },
  {
   "cell_type": "code",
   "execution_count": 5,
   "id": "dd27eba3",
   "metadata": {},
   "outputs": [
    {
     "name": "stdout",
     "output_type": "stream",
     "text": [
      "Enter the number of lines: 6\n",
      "     * \n",
      "    * * \n",
      "   * * * \n",
      "  * * * * \n",
      " * * * * * \n",
      "* * * * * * \n"
     ]
    }
   ],
   "source": [
    "# 55] Display the following triangle up to given lines.\n",
    "#     *\n",
    "#    * *\n",
    "#   * * *\n",
    "#  * * * *\n",
    "# * * * * *\n",
    "\n",
    "def display(n):\n",
    "    for i in range(1, n+1):\n",
    "        print(\" \" * (n - i) + \"* \" * i)\n",
    "        \n",
    "n = int(input(\"Enter the number of lines: \"))\n",
    "display(n)"
   ]
  }
 ],
 "metadata": {
  "kernelspec": {
   "display_name": "Python 3 (ipykernel)",
   "language": "python",
   "name": "python3"
  },
  "language_info": {
   "codemirror_mode": {
    "name": "ipython",
    "version": 3
   },
   "file_extension": ".py",
   "mimetype": "text/x-python",
   "name": "python",
   "nbconvert_exporter": "python",
   "pygments_lexer": "ipython3",
   "version": "3.11.5"
  }
 },
 "nbformat": 4,
 "nbformat_minor": 5
}
