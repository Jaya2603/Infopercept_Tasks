{
 "cells": [
  {
   "cell_type": "code",
   "execution_count": 1,
   "id": "d24c12b1",
   "metadata": {},
   "outputs": [
    {
     "name": "stdout",
     "output_type": "stream",
     "text": [
      "5 4 3 2 1 \n",
      "5 4 3 2 \n",
      "5 4 3 \n",
      "5 4 \n",
      "5 \n"
     ]
    }
   ],
   "source": [
    "# 69] f] Write a Python Program to Generate the following output.\n",
    "# 5 4 3 2 1\n",
    "# 5 4 3 2\n",
    "# 5 4 3\n",
    "# 5 4\n",
    "# 5\n",
    "\n",
    "for i in range(5,0,-1):\n",
    "    for j in range(5,5-i,-1):\n",
    "        print(j,end=' ')\n",
    "    print()"
   ]
  },
  {
   "cell_type": "code",
   "execution_count": 2,
   "id": "c3fad4e4",
   "metadata": {},
   "outputs": [
    {
     "name": "stdout",
     "output_type": "stream",
     "text": [
      "1 \n",
      "2 1 \n",
      "3 2 1 \n",
      "4 3 2 1 \n",
      "5 4 3 2 1 \n"
     ]
    }
   ],
   "source": [
    "# 69] g] Write a Python Program to Generate the following output.\n",
    "# 1\n",
    "# 2 1\n",
    "# 3 2 1\n",
    "# 4 3 2 1\n",
    "# 5 4 3 2 1\n",
    "\n",
    "for i in range(1,6):\n",
    "    for j in range(i,0,-1):\n",
    "        print(j, end=' ')\n",
    "    print()"
   ]
  },
  {
   "cell_type": "code",
   "execution_count": 3,
   "id": "da7b7f63",
   "metadata": {},
   "outputs": [
    {
     "name": "stdout",
     "output_type": "stream",
     "text": [
      "5 \n",
      "4 5 \n",
      "3 4 5 \n",
      "2 3 4 5 \n",
      "1 2 3 4 5 \n"
     ]
    }
   ],
   "source": [
    "# 69] h] Write a Python Program to Generate the following output.\n",
    "# 5\n",
    "# 4 5\n",
    "# 3 4 5\n",
    "# 2 3 4 5\n",
    "# 1 2 3 4 5\n",
    "\n",
    "for i in range(5,0,-1):\n",
    "    for j in range(i,6):\n",
    "        print(j,end=' ')\n",
    "    print()"
   ]
  },
  {
   "cell_type": "code",
   "execution_count": 4,
   "id": "1afcccf5",
   "metadata": {},
   "outputs": [
    {
     "name": "stdout",
     "output_type": "stream",
     "text": [
      "1 2 3 4 5 \n",
      "2 3 4 5 \n",
      "3 4 5 \n",
      "4 5 \n",
      "5 \n"
     ]
    }
   ],
   "source": [
    "# 69] i] Write a Python Program to Generate the following output.\n",
    "# 1 2 3 4 5\n",
    "# 2 3 4 5\n",
    "# 3 4 5\n",
    "# 4 5\n",
    "# 5\n",
    "\n",
    "for i in range(1,6):\n",
    "    for j in range(i,6):\n",
    "        print(j,end=' ')\n",
    "    print()"
   ]
  },
  {
   "cell_type": "code",
   "execution_count": 5,
   "id": "a9303557",
   "metadata": {},
   "outputs": [
    {
     "name": "stdout",
     "output_type": "stream",
     "text": [
      "5 4 3 2 1 \n",
      "4 3 2 1 \n",
      "3 2 1 \n",
      "2 1 \n",
      "1 \n"
     ]
    }
   ],
   "source": [
    "# 69] j] Write a Python Program to Generate the following output.\n",
    "# 5 4 3 2 1\n",
    "# 4 3 2 1\n",
    "# 3 2 1\n",
    "# 2 1\n",
    "# 1\n",
    "\n",
    "for i in range(5,0,-1):\n",
    "    for j in range(i,0,-1):\n",
    "        print(j,end=' ')\n",
    "    print()"
   ]
  },
  {
   "cell_type": "code",
   "execution_count": 6,
   "id": "5a9f9ce9",
   "metadata": {},
   "outputs": [
    {
     "name": "stdout",
     "output_type": "stream",
     "text": [
      "5 \n",
      "5 4 \n",
      "5 4 3 \n",
      "5 4 3 2 \n",
      "5 4 3 2 1 \n"
     ]
    }
   ],
   "source": [
    "# 69] k] Write a Python Program to Generate the following output.\n",
    "# 5\n",
    "# 5 4\n",
    "# 5 4 3\n",
    "# 5 4 3 2\n",
    "# 5 4 3 2 1\n",
    "\n",
    "for i in range(5,0,-1):\n",
    "    for j in range(5,i-1,-1):\n",
    "        print(j,end=' ')\n",
    "    print()"
   ]
  }
 ],
 "metadata": {
  "kernelspec": {
   "display_name": "Python 3 (ipykernel)",
   "language": "python",
   "name": "python3"
  },
  "language_info": {
   "codemirror_mode": {
    "name": "ipython",
    "version": 3
   },
   "file_extension": ".py",
   "mimetype": "text/x-python",
   "name": "python",
   "nbconvert_exporter": "python",
   "pygments_lexer": "ipython3",
   "version": "3.11.5"
  }
 },
 "nbformat": 4,
 "nbformat_minor": 5
}
