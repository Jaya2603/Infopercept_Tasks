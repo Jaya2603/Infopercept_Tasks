{
 "cells": [
  {
   "cell_type": "code",
   "execution_count": 1,
   "id": "0c636f06",
   "metadata": {},
   "outputs": [
    {
     "name": "stdout",
     "output_type": "stream",
     "text": [
      "Enter a number: 100\n",
      "100 99 98 97 96 95 94 93 92 91 90 "
     ]
    }
   ],
   "source": [
    "# 46] Write a Python Program to Generate a Series like 100 99 98 97 …90\n",
    "\n",
    "n = int(input(\"Enter a number: \"))\n",
    "\n",
    "while n>=90:\n",
    "    print(n,end=\" \")\n",
    "    n-=1"
   ]
  },
  {
   "cell_type": "code",
   "execution_count": 2,
   "id": "cb70ca0e",
   "metadata": {},
   "outputs": [
    {
     "name": "stdout",
     "output_type": "stream",
     "text": [
      "Enter a number: 20\n",
      "1 3 5 7 9 11 13 15 17 19 "
     ]
    }
   ],
   "source": [
    "# 47] Write a Python Program to Generate a Series like 1 3 5 7\t19\n",
    "\n",
    "n = int(input(\"Enter a number: \"))\n",
    "\n",
    "i=1 \n",
    "\n",
    "while i<=n:\n",
    "    if i %2 != 0:\n",
    "        print(i,end=\" \")\n",
    "    i+=1"
   ]
  },
  {
   "cell_type": "code",
   "execution_count": 3,
   "id": "fb7ca40b",
   "metadata": {},
   "outputs": [
    {
     "name": "stdout",
     "output_type": "stream",
     "text": [
      "Enter a number: 10\n",
      "1 2 3 4 5 6 7 8 9 10 "
     ]
    }
   ],
   "source": [
    "# 48] Write a Python Program to Generate a Series like 1 2 3 4\t10\n",
    "\n",
    "n = int(input(\"Enter a number: \"))\n",
    "\n",
    "i=1 \n",
    "\n",
    "while i<=n:\n",
    "    print(i,end=\" \")\n",
    "    i+=1"
   ]
  },
  {
   "cell_type": "code",
   "execution_count": 4,
   "id": "efb849e8",
   "metadata": {},
   "outputs": [
    {
     "name": "stdout",
     "output_type": "stream",
     "text": [
      "Enter a number: 28\n",
      "28 is a perfect number\n"
     ]
    }
   ],
   "source": [
    "# 49] Write a Python Program to check whether the given number is perfect (or magic) or not.\n",
    "\n",
    "n = int(input(\"Enter a number: \"))\n",
    "\n",
    "div= 0\n",
    "\n",
    "for i in range(1, n):\n",
    "    if n % i == 0:  \n",
    "        div += i\n",
    "\n",
    "if div == n:\n",
    "    print(n,\"is a perfect number\")\n",
    "else:\n",
    "    print(n,\"is not a perfect number\")\n"
   ]
  },
  {
   "cell_type": "code",
   "execution_count": 5,
   "id": "edd9fba6",
   "metadata": {},
   "outputs": [
    {
     "name": "stdout",
     "output_type": "stream",
     "text": [
      "Enter a number: 123\n",
      "123 is a Magic number\n"
     ]
    }
   ],
   "source": [
    "# 50] Write a Python Program to check whether the entered the number is magic number or not.\n",
    "#Note : The magic number is that the sum and multiplication of each digit is the same. \n",
    "#Input : 123\tmeans 1 + 2 +3 = 1 * 2 * 3\tOutput : Magic Number\n",
    "\n",
    "n = int(input(\"Enter a number: \"))\n",
    "\n",
    "digits = [int(d) for d in str(n)]  \n",
    "if sum(digits) == eval('*'.join(str(n))):  \n",
    "    print(n ,\"is a Magic number\");\n",
    "else:\n",
    "    print(n ,\"is not a Magic number\");"
   ]
  }
 ],
 "metadata": {
  "kernelspec": {
   "display_name": "Python 3 (ipykernel)",
   "language": "python",
   "name": "python3"
  },
  "language_info": {
   "codemirror_mode": {
    "name": "ipython",
    "version": 3
   },
   "file_extension": ".py",
   "mimetype": "text/x-python",
   "name": "python",
   "nbconvert_exporter": "python",
   "pygments_lexer": "ipython3",
   "version": "3.11.5"
  }
 },
 "nbformat": 4,
 "nbformat_minor": 5
}
