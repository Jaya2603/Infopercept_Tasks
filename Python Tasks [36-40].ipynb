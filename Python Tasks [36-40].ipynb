{
 "cells": [
  {
   "cell_type": "code",
   "execution_count": 1,
   "id": "72a49d54",
   "metadata": {},
   "outputs": [
    {
     "name": "stdout",
     "output_type": "stream",
     "text": [
      "Enter a number: 25\n",
      "The prime numbers less than 25 are: [2, 3, 5, 7, 11, 13, 17, 19, 23]\n",
      "The sum of these prime numbers is: 100\n"
     ]
    }
   ],
   "source": [
    "# 36] Write a Python Program to Calculate the sum of first 25 prime numbers. ( Result = 101 )\n",
    "\n",
    "def is_prime(n):\n",
    "    if n <= 1:\n",
    "        return False\n",
    "    i = 2\n",
    "    while i * i <= n:\n",
    "        if n % i == 0:\n",
    "            return False\n",
    "        i += 1\n",
    "    return True\n",
    "\n",
    "def calc(n):\n",
    "    primes = []\n",
    "    for num in range(2, n):  \n",
    "        if is_prime(num):\n",
    "            primes.append(num)\n",
    "    return primes\n",
    "\n",
    "n = int(input(\"Enter a number: \"))\n",
    "\n",
    "add = calc(n)\n",
    "\n",
    "total = sum(add)\n",
    "\n",
    "print(f\"The prime numbers less than {n} are: {add}\")\n",
    "print(f\"The sum of these prime numbers is: {total}\")\n"
   ]
  },
  {
   "cell_type": "code",
   "execution_count": 2,
   "id": "f026eaaa",
   "metadata": {},
   "outputs": [
    {
     "name": "stdout",
     "output_type": "stream",
     "text": [
      "Enter a number:50\n",
      "1 3 5 7 9 11 13 15 17 19 21 23 25 27 29 31 33 35 37 39 41 43 45 47 49 \n",
      "The sum of first 50 odd number is: 625\n"
     ]
    }
   ],
   "source": [
    "# 37] Write a Python Program to Calculate the sum of first 50 odd numbers. ( Result = 625 )\n",
    "\n",
    "n = int(input(\"Enter a number:\"))\n",
    "total = 0\n",
    "\n",
    "for i in range(1,n):\n",
    "    if i % 2 != 0:\n",
    "        print(i,end=\" \")\n",
    "        total += i\n",
    "\n",
    "\n",
    "print(f\"\\nThe sum of first {n} odd number is: {total}\")"
   ]
  },
  {
   "cell_type": "code",
   "execution_count": 3,
   "id": "0e837772",
   "metadata": {},
   "outputs": [
    {
     "name": "stdout",
     "output_type": "stream",
     "text": [
      "Enter a number: 10\n",
      "The result of the series 1 - 2 + 3 - 4 + ... - 10 is: -5\n"
     ]
    }
   ],
   "source": [
    "# 38] Write a Python Program to Calculate the Series like 1-2+3-4…. –10 (Result = -5)\n",
    "\n",
    "n = int(input(\"Enter a number: \"))\n",
    "\n",
    "total=0\n",
    "for i in range(1,n+1):\n",
    "    if i %2 == 0:\n",
    "        total -= i\n",
    "    else:\n",
    "        total += i\n",
    "\n",
    "print(f\"The result of the series 1 - 2 + 3 - 4 + ... - {n} is: {total}\")"
   ]
  },
  {
   "cell_type": "code",
   "execution_count": 4,
   "id": "6d92db7d",
   "metadata": {},
   "outputs": [
    {
     "name": "stdout",
     "output_type": "stream",
     "text": [
      "Enter a number: 9\n",
      "1/2 + 2/3 + 3/4 + ... + 9/10 = 7.071\n"
     ]
    }
   ],
   "source": [
    "# 39] Write a Python Program to Calculate the Series like 1/2 + 2/3 + 3/4 + …+9/10 (Result = 7.071)\n",
    "\n",
    "def calc(n):\n",
    "    sums = 0\n",
    "    i = 1  \n",
    "    while i <= n:\n",
    "        sums += i / (i + 1)  \n",
    "        i += 1  \n",
    "    return sums\n",
    "\n",
    "n = int(input(\"Enter a number: \"))\n",
    "result = calc(n)\n",
    "\n",
    "# Print the formatted output\n",
    "print(f\"1/2 + 2/3 + 3/4 + ... + {n}/{n + 1} = {result:.3f}\")"
   ]
  },
  {
   "cell_type": "code",
   "execution_count": 5,
   "id": "fb26a540",
   "metadata": {},
   "outputs": [
    {
     "name": "stdout",
     "output_type": "stream",
     "text": [
      "Enter a number: 10\n",
      "1+2+3…+ 10 = 55\n"
     ]
    }
   ],
   "source": [
    "# 40] Write a Python Program to Calculate the series like 1+2+3…+10 ( Result = 55 )\n",
    "\n",
    "def calc(n):\n",
    "    sums = 0\n",
    "    i = 1  \n",
    "    while i <= n:\n",
    "        sums += i \n",
    "        i += 1  \n",
    "    return sums\n",
    "\n",
    "n = int(input(\"Enter a number: \"))\n",
    "result = calc(n)\n",
    "print(f\"1+2+3…+ {n} = {calc(n)}\")"
   ]
  }
 ],
 "metadata": {
  "kernelspec": {
   "display_name": "Python 3 (ipykernel)",
   "language": "python",
   "name": "python3"
  },
  "language_info": {
   "codemirror_mode": {
    "name": "ipython",
    "version": 3
   },
   "file_extension": ".py",
   "mimetype": "text/x-python",
   "name": "python",
   "nbconvert_exporter": "python",
   "pygments_lexer": "ipython3",
   "version": "3.11.5"
  }
 },
 "nbformat": 4,
 "nbformat_minor": 5
}
