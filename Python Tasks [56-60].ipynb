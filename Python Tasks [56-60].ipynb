{
 "cells": [
  {
   "cell_type": "code",
   "execution_count": 1,
   "id": "d2092c5d",
   "metadata": {},
   "outputs": [
    {
     "name": "stdout",
     "output_type": "stream",
     "text": [
      "1\n",
      "123\n",
      "12345\n",
      "1234567\n",
      "123456789\n"
     ]
    }
   ],
   "source": [
    "# 56] Write a Python Program to generate the following output \n",
    "#1\n",
    "#123\n",
    "#12345\n",
    "#1234567\n",
    "#123456789\n",
    "\n",
    "for i in range(1, 10, 2):\n",
    "    for j in range(1,i+1):\n",
    "        print(j,end=\"\")\n",
    "    print()"
   ]
  },
  {
   "cell_type": "code",
   "execution_count": 2,
   "id": "17fd4c76",
   "metadata": {},
   "outputs": [
    {
     "name": "stdout",
     "output_type": "stream",
     "text": [
      "Enter number 1: 3\n",
      "Enter number 2: 1\n",
      "Enter number 3: 9\n",
      "Enter number 4: 8\n",
      "Enter number 5: 6\n",
      "\n",
      "Minimum number is: 1\n",
      "Maximum number is: 9\n"
     ]
    }
   ],
   "source": [
    "# 57] Accept 5 number as input and display minimum and maximum of them.\n",
    "\n",
    "numbers = []\n",
    "for i in range(5):\n",
    "    num = int(input(f\"Enter number {i + 1}: \"))\n",
    "    numbers.append(num)\n",
    "\n",
    "minimum = min(numbers)\n",
    "maximum = max(numbers)\n",
    "\n",
    "print(\"\\nMinimum number is:\", minimum)\n",
    "print(\"Maximum number is:\", maximum)"
   ]
  },
  {
   "cell_type": "code",
   "execution_count": 3,
   "id": "8f963dc7",
   "metadata": {},
   "outputs": [
    {
     "name": "stdout",
     "output_type": "stream",
     "text": [
      "Enter marks for Subject 1: 96\n",
      "Enter marks for Subject 2: 45\n",
      "Enter marks for Subject 3: 78\n",
      "\n",
      "Total Marks:  219.0\n",
      "Percentage:  73.0\n",
      "Grade:  B\n"
     ]
    }
   ],
   "source": [
    "# 58] Input marks of 3 subjects. Prepare total, percentage and grade for a student.\n",
    "# Input marks for three subjects\n",
    "\n",
    "subjects = []\n",
    "for i in range(3):\n",
    "    sub = float(input(f\"Enter marks for Subject {i + 1}: \"))\n",
    "    subjects.append(sub)\n",
    "\n",
    "total_marks = sum(subjects)\n",
    "percentage = (total_marks / 300) * 100  \n",
    "\n",
    "if percentage >= 90:\n",
    "    grade = 'A+'\n",
    "elif percentage >= 80:\n",
    "    grade = 'A'\n",
    "elif percentage >= 70:\n",
    "    grade = 'B'\n",
    "elif percentage >= 60:\n",
    "    grade = 'C'\n",
    "elif percentage >= 50:\n",
    "    grade = 'D'\n",
    "else:\n",
    "    grade = 'F'\n",
    "\n",
    "print(\"\\nTotal Marks: \", total_marks)\n",
    "print(\"Percentage: \", percentage)\n",
    "print(\"Grade: \", grade)"
   ]
  },
  {
   "cell_type": "code",
   "execution_count": 4,
   "id": "f47522db",
   "metadata": {},
   "outputs": [
    {
     "name": "stdout",
     "output_type": "stream",
     "text": [
      "Enter a number: -4563\n",
      "Number of digits: 4\n"
     ]
    }
   ],
   "source": [
    "# 59] Write a Python Program to input any number and count the no. of digits in that number.\n",
    "\n",
    "num = input(\"Enter a number: \")\n",
    "\n",
    "digit_count = len(num.lstrip('-'))\n",
    "\n",
    "print(\"Number of digits:\", digit_count)"
   ]
  },
  {
   "cell_type": "code",
   "execution_count": 5,
   "id": "2f157cab",
   "metadata": {},
   "outputs": [
    {
     "name": "stdout",
     "output_type": "stream",
     "text": [
      "First 10 Fibonacci numbers that are prime:\n",
      "2 3 5 13 89 233 1597 28657 514229 433494437 "
     ]
    }
   ],
   "source": [
    "# 60] Write a program to print first 10 numbers of fibonacci series, which are prime numbers.\n",
    "\n",
    "def is_prime(num):\n",
    "    if num <= 1:\n",
    "        return False  \n",
    "    for i in range(2, int(num**0.5) + 1):\n",
    "        if num % i == 0:\n",
    "            return False  \n",
    "    return True  \n",
    "\n",
    "def fibonacci():\n",
    "    a, b = 1, 1  \n",
    "    count = 0 \n",
    "    \n",
    "    print(\"First 10 Fibonacci numbers that are prime:\")\n",
    "\n",
    "    while count < 10:\n",
    "        c = a + b  \n",
    "        a, b = b, c  \n",
    "        \n",
    "        if is_prime(c):  \n",
    "            print(c,end=\" \")  \n",
    "            count += 1  \n",
    "\n",
    "fibonacci()"
   ]
  }
 ],
 "metadata": {
  "kernelspec": {
   "display_name": "Python 3 (ipykernel)",
   "language": "python",
   "name": "python3"
  },
  "language_info": {
   "codemirror_mode": {
    "name": "ipython",
    "version": 3
   },
   "file_extension": ".py",
   "mimetype": "text/x-python",
   "name": "python",
   "nbconvert_exporter": "python",
   "pygments_lexer": "ipython3",
   "version": "3.11.5"
  }
 },
 "nbformat": 4,
 "nbformat_minor": 5
}
