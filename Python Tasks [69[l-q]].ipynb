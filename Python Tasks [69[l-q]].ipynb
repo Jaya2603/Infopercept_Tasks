{
 "cells": [
  {
   "cell_type": "code",
   "execution_count": 1,
   "id": "efd236e8",
   "metadata": {},
   "outputs": [
    {
     "name": "stdout",
     "output_type": "stream",
     "text": [
      "2 4 6 8 10 \n",
      "4 6 8 10 \n",
      "6 8 10 \n",
      "8 10 \n",
      "10 \n"
     ]
    }
   ],
   "source": [
    "# 69] l] Write a Python Program to Generate the following output.\n",
    "# 2 4 6 8 10\n",
    "# 4 6 8 10\n",
    "# 6 8 10\n",
    "# 8 10\n",
    "# 10\n",
    "\n",
    "for i in range(5):\n",
    "    for j in range(i, 5):\n",
    "        print(2 * (j + 1), end=\" \")\n",
    "    print()  "
   ]
  },
  {
   "cell_type": "code",
   "execution_count": 2,
   "id": "3b6b2364",
   "metadata": {},
   "outputs": [
    {
     "name": "stdout",
     "output_type": "stream",
     "text": [
      "1 \n",
      "2 3 \n",
      "4 5 6 \n",
      "7 8 9 10 \n",
      "11 12 13 14 15 \n"
     ]
    }
   ],
   "source": [
    "# 69] m] Write a Python Program to Generate the following output.\n",
    "# 1\n",
    "# 2 3\n",
    "# 4 5 6\n",
    "# 7 8 9 10\n",
    "# 11 12 13 14 15\n",
    "\n",
    "num = 1\n",
    "for i in range(1, 6):\n",
    "    for j in range(i):\n",
    "        print(num, end=\" \")\n",
    "        num += 1\n",
    "    print()"
   ]
  },
  {
   "cell_type": "code",
   "execution_count": 3,
   "id": "23fbb8a5",
   "metadata": {},
   "outputs": [
    {
     "name": "stdout",
     "output_type": "stream",
     "text": [
      "1 \n",
      "0 1 \n",
      "0 1 0 \n",
      "1 0 1 0 \n",
      "1 0 1 0 1 \n"
     ]
    }
   ],
   "source": [
    "# 69] n] Write a Python Program to Generate the following output.\n",
    "# 1\n",
    "# 0 1\n",
    "# 0 1 0\n",
    "# 1 0 1 0\n",
    "# 1 0 1 0 1\n",
    "\n",
    "n = 5\n",
    "\n",
    "for i in range(n):\n",
    "    for j in range(i + 1):\n",
    "        if i == 0:  \n",
    "            print(1, end=' ')\n",
    "        elif i == 1:  \n",
    "            print(0 if j == 0 else 1, end=' ')\n",
    "        elif i == 2:  \n",
    "            print(0 if j % 2 == 0 else 1, end=' ')\n",
    "        else:  \n",
    "            print(1 if j % 2 == 0 else 0, end=' ')\n",
    "    print()  "
   ]
  },
  {
   "cell_type": "code",
   "execution_count": 4,
   "id": "fb3606d3",
   "metadata": {},
   "outputs": [
    {
     "name": "stdout",
     "output_type": "stream",
     "text": [
      "1 \n",
      "1 0 \n",
      "1 0 1 \n",
      "1 0 1 0 \n",
      "1 0 1 0 1 \n"
     ]
    }
   ],
   "source": [
    "# 69] o] Write a Python Program to Generate the following output.\n",
    "# 1\n",
    "# 1 0\n",
    "# 1 0 1\n",
    "# 1 0 1 0\n",
    "# 1 0 1 0 1\n",
    "\n",
    "n = 5\n",
    "\n",
    "for i in range(n):\n",
    "    for j in range(i + 1):\n",
    "        print(1 if j % 2 == 0 else 0, end=' ')\n",
    "    print()  "
   ]
  },
  {
   "cell_type": "code",
   "execution_count": 5,
   "id": "9a139539",
   "metadata": {},
   "outputs": [
    {
     "name": "stdout",
     "output_type": "stream",
     "text": [
      "A B C D E F G F E D C B A \n",
      "A B C D E F F E D C B A A \n",
      "B C D E         E D C B A \n",
      "A B C D           D C B A \n",
      "A B C               C B A \n",
      "A B                   B A \n",
      "A                       A \n"
     ]
    }
   ],
   "source": [
    "# 69] p] Write a Python Program to Generate the following output.\n",
    "# A B C D E F G F E D C B A \n",
    "# A B C D E F F E D C B A A\n",
    "# B C D E         E D C B A \n",
    "# A B C D           D C B A\n",
    "# A B C               C B A\n",
    "# A B                   B A\n",
    "# A                       A\n",
    "\n",
    "n = 7  \n",
    "\n",
    "# First row: A to G and back to A with G printed only once in the middle\n",
    "for j in range(n):\n",
    "    print(chr(65 + j), end=' ')\n",
    "for j in range(n - 2, -1, -1):\n",
    "    print(chr(65 + j), end=' ')\n",
    "print()  \n",
    "\n",
    "# Second row: A to F, F again, and back to A\n",
    "for j in range(n - 1):\n",
    "    print(chr(65 + j), end=' ')\n",
    "for j in range(5, 0, -1):\n",
    "    print(chr(65 + j), end=' ')\n",
    "for _ in range(2):  \n",
    "    print(chr(65), end=' ') \n",
    "print()  \n",
    "\n",
    "# Third row: B to E, spaces, E to B, A at the end\n",
    "for j in range(1, 5):  \n",
    "    print(chr(65 + j), end=' ')\n",
    "print('        ', end='')  \n",
    "for j in range(4, 0, -1):  \n",
    "    print(chr(65 + j), end=' ')\n",
    "for _ in range(1):  \n",
    "    print(chr(65), end=' ')  \n",
    "print()  \n",
    "\n",
    "# Generalized rows from 4th to 7th\n",
    "for i in range(3, n):\n",
    "    for j in range(0, n - i):\n",
    "        print(chr(65 + j), end=' ')\n",
    "    print('  ' * (2 * i - 1), end='')  \n",
    "    for j in range(n - i - 1, -1, -1):\n",
    "        print(chr(65 + j), end=' ')\n",
    "    print() \n"
   ]
  },
  {
   "cell_type": "code",
   "execution_count": 6,
   "id": "2e780906",
   "metadata": {},
   "outputs": [
    {
     "name": "stdout",
     "output_type": "stream",
     "text": [
      "         1\n",
      "        232\n",
      "       34543\n",
      "      4567654\n",
      "     567898765\n",
      "    67890109876\n",
      "   7890123210987\n",
      "  890123454321098\n",
      " 90123456765432109\n",
      "0123456789876543210\n"
     ]
    }
   ],
   "source": [
    "# 69] q] Write a Python Program to Generate the following output.\n",
    "#          1\n",
    "#         232\n",
    "#        34543\n",
    "#       4567654\n",
    "#      567898765\n",
    "#     67890109876\n",
    "#    7890123210987\n",
    "#   890123454321098\n",
    "#  90123456765432109\n",
    "# 0123456789876543210\n",
    "\n",
    "num = 10\n",
    "\n",
    "for i in range(num):\n",
    "    print(' ' * (num - i - 1), end='')\n",
    "\n",
    "    for j in range(i + 1):\n",
    "        print((j + 1 + i) % 10, end='')\n",
    "\n",
    "    for j in range(i - 1, -1, -1):\n",
    "        print((j + 1 + i) % 10, end='')\n",
    "\n",
    "    print()\n"
   ]
  }
 ],
 "metadata": {
  "kernelspec": {
   "display_name": "Python 3 (ipykernel)",
   "language": "python",
   "name": "python3"
  },
  "language_info": {
   "codemirror_mode": {
    "name": "ipython",
    "version": 3
   },
   "file_extension": ".py",
   "mimetype": "text/x-python",
   "name": "python",
   "nbconvert_exporter": "python",
   "pygments_lexer": "ipython3",
   "version": "3.11.5"
  }
 },
 "nbformat": 4,
 "nbformat_minor": 5
}
