{
 "cells": [
  {
   "cell_type": "code",
   "execution_count": 1,
   "id": "fcfe564a",
   "metadata": {},
   "outputs": [
    {
     "name": "stdout",
     "output_type": "stream",
     "text": [
      "\n",
      "CALCULATE:\n",
      "a) Prime or Not\n",
      "b) Armstrong or Not\n",
      "c) Perfect or Not\n",
      "d) Palindrome or Not\n",
      "e) Exit\n",
      "Choose an option: a\n",
      "Enter a number: 5\n",
      "Prime\n",
      "\n",
      "CALCULATE:\n",
      "a) Prime or Not\n",
      "b) Armstrong or Not\n",
      "c) Perfect or Not\n",
      "d) Palindrome or Not\n",
      "e) Exit\n",
      "Choose an option: b\n",
      "Enter a number: 153\n",
      "Armstrong\n",
      "\n",
      "CALCULATE:\n",
      "a) Prime or Not\n",
      "b) Armstrong or Not\n",
      "c) Perfect or Not\n",
      "d) Palindrome or Not\n",
      "e) Exit\n",
      "Choose an option: c\n",
      "Enter a number: 6\n",
      "Perfect\n",
      "\n",
      "CALCULATE:\n",
      "a) Prime or Not\n",
      "b) Armstrong or Not\n",
      "c) Perfect or Not\n",
      "d) Palindrome or Not\n",
      "e) Exit\n",
      "Choose an option: d\n",
      "Enter a number: 121\n",
      "Palindrome\n",
      "\n",
      "CALCULATE:\n",
      "a) Prime or Not\n",
      "b) Armstrong or Not\n",
      "c) Perfect or Not\n",
      "d) Palindrome or Not\n",
      "e) Exit\n",
      "Choose an option: e\n",
      "Exit\n"
     ]
    }
   ],
   "source": [
    "# 66] Write a menu driven program which has the following options:\n",
    "# a] Prime or Not.\n",
    "# b] Armstrong or Not.\n",
    "# c] Perfect or Not.\n",
    "# d] Palindrome or not.\n",
    "# e] Exit.\n",
    "# Make use of SWITCH statement.\n",
    "\n",
    "def is_prime(num):\n",
    "    if num < 2:\n",
    "        return False\n",
    "    for i in range(2, int(num ** 0.5) + 1):\n",
    "        if num % i == 0:\n",
    "            return False\n",
    "    return True\n",
    "\n",
    "def is_armstrong(num):\n",
    "    order = len(str(num))\n",
    "    return num == sum(int(digit) ** order for digit in str(num))\n",
    "\n",
    "def is_perfect(num):\n",
    "    return num == sum(i for i in range(1, num) if num % i == 0)\n",
    "\n",
    "def is_palindrome(num):\n",
    "    return str(num) == str(num)[::-1]\n",
    "\n",
    "def cal():\n",
    "    print(\"\\nCALCULATE:\")\n",
    "    print(\"a) Prime or Not\")\n",
    "    print(\"b) Armstrong or Not\")\n",
    "    print(\"c) Perfect or Not\")\n",
    "    print(\"d) Palindrome or Not\")\n",
    "    print(\"e) Exit\")\n",
    "\n",
    "while True:\n",
    "    cal()\n",
    "    choice = input(\"Choose an option: \")\n",
    "\n",
    "    if choice == 'e':\n",
    "        print(\"Exit\")\n",
    "        break\n",
    "\n",
    "    num = int(input(\"Enter a number: \"))\n",
    "\n",
    "    if choice == 'a':\n",
    "        print(\"Prime\" if is_prime(num) else \"Not Prime\")\n",
    "    elif choice == 'b':\n",
    "        print(\"Armstrong\" if is_armstrong(num) else \"Not Armstrong\")\n",
    "    elif choice == 'c':\n",
    "        print(\"Perfect\" if is_perfect(num) else \"Not Perfect\")\n",
    "    elif choice == 'd':\n",
    "        print(\"Palindrome\" if is_palindrome(num) else \"Not Palindrome\")\n",
    "    else:\n",
    "        print(\"Invalid choice, please try again.\")"
   ]
  },
  {
   "cell_type": "code",
   "execution_count": 2,
   "id": "2e18af37",
   "metadata": {},
   "outputs": [
    {
     "name": "stdout",
     "output_type": "stream",
     "text": [
      "C\n",
      "CP\n",
      "CPr\n",
      "CPro\n",
      "CProg\n",
      "CProgr\n",
      "CProgra\n",
      "CProgram\n",
      "CProgramm\n",
      "CProgrammi\n",
      "CProgrammin\n",
      "CProgramming\n"
     ]
    }
   ],
   "source": [
    "# 67] Write a Python Program to print the output as follows. C\n",
    "# CP\n",
    "# CPr\n",
    "# CPro \n",
    "# CProg \n",
    "# CProgr \n",
    "# CProgra \n",
    "# CProgram\n",
    "# CProgramm \n",
    "# CProgrammi \n",
    "# CProgrammin \n",
    "# CProgramming\n",
    "\n",
    "word = \"CProgramming\"\n",
    "for i in range(1, len(word) + 1):\n",
    "    print(word[:i])"
   ]
  },
  {
   "cell_type": "code",
   "execution_count": 3,
   "id": "708767c4",
   "metadata": {},
   "outputs": [
    {
     "name": "stdout",
     "output_type": "stream",
     "text": [
      "PyProgrammin\n",
      "PyProgrammi\n",
      "PyProgramm\n",
      "PyProgram\n",
      "PyProgra\n",
      "PyProgr\n",
      "PyProg\n",
      "PyPro\n",
      "PyPr\n"
     ]
    }
   ],
   "source": [
    "# 68] Write a Python Program to print the out as follows \n",
    "# PyProgrammin \n",
    "# PyProgrammi \n",
    "# PyProgramm \n",
    "# PyProgram \n",
    "# PyProgra \n",
    "# PyProgr \n",
    "# PyProg\n",
    "# PyPr\n",
    "word = \"PyProgrammin\"\n",
    "for i in range(len(word), 3, -1):\n",
    "    print(word[:i])"
   ]
  },
  {
   "cell_type": "code",
   "execution_count": 4,
   "id": "67bf2907",
   "metadata": {},
   "outputs": [
    {
     "name": "stdout",
     "output_type": "stream",
     "text": [
      "1 2 3 4 5 \n",
      "1 2 3 4 5 \n",
      "1 2 3 4 5 \n",
      "1 2 3 4 5 \n",
      "1 2 3 4 5 \n"
     ]
    }
   ],
   "source": [
    "# 69] a] Write a Python Program to Generate the following output.\n",
    "# 1 2 3 4 5\n",
    "# 1 2 3 4 5\n",
    "# 1 2 3 4 5\n",
    "# 1 2 3 4 5\n",
    "# 1 2 3 4 5\n",
    "\n",
    "for i in range(5):        \n",
    "    for j in range(1, 6):  \n",
    "        print(j, end=' ')  \n",
    "    print()                \n"
   ]
  },
  {
   "cell_type": "code",
   "execution_count": 5,
   "id": "54d9db14",
   "metadata": {},
   "outputs": [
    {
     "name": "stdout",
     "output_type": "stream",
     "text": [
      "1 1 1 1 1 \n",
      "2 2 2 2 2 \n",
      "3 3 3 3 3 \n",
      "4 4 4 4 4 \n",
      "5 5 5 5 5 \n"
     ]
    }
   ],
   "source": [
    "# 69] b] Write a Python Program to Generate the following output.\n",
    "# 1 1 1 1 1\n",
    "# 2 2 2 2 2\n",
    "# 3 3 3 3 3\n",
    "# 4 4 4 4 4\n",
    "# 5 5 5 5 5\n",
    "\n",
    "for i in range(1,6):        \n",
    "    for j in range(5):  \n",
    "        print(i, end=' ')  \n",
    "    print()                \n"
   ]
  },
  {
   "cell_type": "code",
   "execution_count": 6,
   "id": "0a113c14",
   "metadata": {},
   "outputs": [
    {
     "name": "stdout",
     "output_type": "stream",
     "text": [
      "1 \n",
      "1 2 \n",
      "1 2 3 \n",
      "1 2 3 4 \n",
      "1 2 3 4 5 \n"
     ]
    }
   ],
   "source": [
    "# 69] c] Write a Python Program to Generate the following output.\n",
    "# 1\n",
    "# 1 2\n",
    "# 1 2 3\n",
    "# 1 2 3 4\n",
    "# 1 2 3 4 5\n",
    "\n",
    "for i in range(1, 6):  \n",
    "    for j in range(1, i + 1):  \n",
    "        print(j, end=' ')  \n",
    "    print()  "
   ]
  },
  {
   "cell_type": "code",
   "execution_count": 7,
   "id": "757a91cd",
   "metadata": {},
   "outputs": [
    {
     "name": "stdout",
     "output_type": "stream",
     "text": [
      "1 \n",
      "2 2 \n",
      "3 3 3 \n",
      "4 4 4 4 \n",
      "5 5 5 5 5 \n"
     ]
    }
   ],
   "source": [
    "# 69] d] Write a Python Program to Generate the following output.\n",
    "# 1\n",
    "# 2 2\n",
    "# 3 3 3\n",
    "# 4 4 4 4\n",
    "# 5 5 5 5 5\n",
    "\n",
    "for i in range(1, 6):  \n",
    "    for j in range(1, i + 1):  \n",
    "        print(i, end=' ')  \n",
    "    print()  "
   ]
  },
  {
   "cell_type": "code",
   "execution_count": 8,
   "id": "874d739d",
   "metadata": {},
   "outputs": [
    {
     "name": "stdout",
     "output_type": "stream",
     "text": [
      "5 5 5 5 5 \n",
      "4 4 4 4 \n",
      "3 3 3 \n",
      "2 2 \n",
      "1 \n"
     ]
    }
   ],
   "source": [
    "# 69] e] Write a Python Program to Generate the following output.\n",
    "# 5 5 5 5 5\n",
    "# 4 4 4 4\n",
    "# 3 3 3\n",
    "# 2 2\n",
    "# 1\n",
    "\n",
    "for i in range(5, 0, -1):  \n",
    "    for j in range(i):  \n",
    "        print(i, end=' ')  \n",
    "    print()  "
   ]
  }
 ],
 "metadata": {
  "kernelspec": {
   "display_name": "Python 3 (ipykernel)",
   "language": "python",
   "name": "python3"
  },
  "language_info": {
   "codemirror_mode": {
    "name": "ipython",
    "version": 3
   },
   "file_extension": ".py",
   "mimetype": "text/x-python",
   "name": "python",
   "nbconvert_exporter": "python",
   "pygments_lexer": "ipython3",
   "version": "3.11.5"
  }
 },
 "nbformat": 4,
 "nbformat_minor": 5
}
