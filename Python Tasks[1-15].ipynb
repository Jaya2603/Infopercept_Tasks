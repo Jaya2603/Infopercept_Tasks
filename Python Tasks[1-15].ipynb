{
 "cells": [
  {
   "cell_type": "code",
   "execution_count": 1,
   "id": "180862ce",
   "metadata": {},
   "outputs": [
    {
     "name": "stdout",
     "output_type": "stream",
     "text": [
      "1\n",
      "2\n",
      "3\n",
      "4\n",
      "5\n",
      "6\n",
      "7\n",
      "8\n",
      "9\n"
     ]
    }
   ],
   "source": [
    "#Looping\n",
    "# 1] 1, 2, 3, 4, 5, 6, 7, 8, 9\n",
    "\n",
    "n=1\n",
    "while n<=9:\n",
    "    print(n)\n",
    "    n+=1"
   ]
  },
  {
   "cell_type": "code",
   "execution_count": 2,
   "id": "a2227bbe",
   "metadata": {},
   "outputs": [
    {
     "name": "stdout",
     "output_type": "stream",
     "text": [
      "Enter a number:5\n",
      "5\n",
      "4\n",
      "3\n",
      "2\n",
      "1\n"
     ]
    }
   ],
   "source": [
    "# 2] Write a Python Program to print n to 1 numbers.\n",
    "\n",
    "n=int(input(\"Enter a number:\"))\n",
    "while(n>0):\n",
    "    print(n)\n",
    "    n-=1"
   ]
  },
  {
   "cell_type": "code",
   "execution_count": 3,
   "id": "3a07df8c",
   "metadata": {},
   "outputs": [
    {
     "name": "stdout",
     "output_type": "stream",
     "text": [
      "Enter a number: 8\n",
      "1\n",
      "3\n",
      "5\n",
      "7\n"
     ]
    }
   ],
   "source": [
    "# 3] Write a Python Program to print 1 to n odd numbers\n",
    "\n",
    "i = 1\n",
    "n = int(input(\"Enter a number: \"))\n",
    "while i <= n:\n",
    "    if i % 2 != 0:\n",
    "        print(i)\n",
    "    i += 1"
   ]
  },
  {
   "cell_type": "code",
   "execution_count": 4,
   "id": "34e9dde9",
   "metadata": {},
   "outputs": [
    {
     "name": "stdout",
     "output_type": "stream",
     "text": [
      "Enter a number: 8\n",
      "2\n",
      "4\n",
      "6\n",
      "8\n"
     ]
    }
   ],
   "source": [
    "# 4] Write a Python Program to print 1 to n even numbers\n",
    "\n",
    "i = 1\n",
    "n = int(input(\"Enter a number: \"))\n",
    "while i <= n:\n",
    "    if i % 2 == 0:\n",
    "        print(i)\n",
    "    i += 1"
   ]
  },
  {
   "cell_type": "code",
   "execution_count": 5,
   "id": "897ea2a5",
   "metadata": {},
   "outputs": [
    {
     "name": "stdout",
     "output_type": "stream",
     "text": [
      "Enter a number:10\n",
      "9\n",
      "7\n",
      "5\n",
      "3\n",
      "1\n"
     ]
    }
   ],
   "source": [
    "# 5] Write a Python Program to print n to 1 odd numbers\n",
    "\n",
    "n=int(input(\"Enter a number:\"))\n",
    "while n>0:\n",
    "    if n % 2 != 0:\n",
    "        print(n)\n",
    "    n-=1"
   ]
  },
  {
   "cell_type": "code",
   "execution_count": 6,
   "id": "6a36f1b4",
   "metadata": {},
   "outputs": [
    {
     "name": "stdout",
     "output_type": "stream",
     "text": [
      "Enter a number:10\n",
      "10\n",
      "8\n",
      "6\n",
      "4\n",
      "2\n"
     ]
    }
   ],
   "source": [
    "# 6] Write a Python Program to print n to 1 even numbers\n",
    "\n",
    "n=int(input(\"Enter a number:\"))\n",
    "while n>0:\n",
    "    if n % 2 == 0:\n",
    "        print(n)\n",
    "    n-=1"
   ]
  },
  {
   "cell_type": "code",
   "execution_count": 7,
   "id": "233a66ba",
   "metadata": {},
   "outputs": [
    {
     "name": "stdout",
     "output_type": "stream",
     "text": [
      "1+2+3+4+5+6+7+8+9\n"
     ]
    }
   ],
   "source": [
    "# 7] 1+2+3+4+5+6+7+8+9\n",
    "    \n",
    "n = 1\n",
    "while n <= 9:\n",
    "    if n < 9:\n",
    "        print(n, end=\"+\")\n",
    "    else:\n",
    "        print(n)\n",
    "    n += 1\n"
   ]
  },
  {
   "cell_type": "code",
   "execution_count": 8,
   "id": "0d9696b9",
   "metadata": {},
   "outputs": [
    {
     "name": "stdout",
     "output_type": "stream",
     "text": [
      "1,4,9,16,25,36\n"
     ]
    }
   ],
   "source": [
    "# 8] 1, 4, 9, 16, 25, 36\n",
    "\n",
    "n=1\n",
    "while n<=6:\n",
    "    if n < 6:\n",
    "        print(n**2,end=\",\")\n",
    "    else:\n",
    "        print(n**2)\n",
    "    n+=1"
   ]
  },
  {
   "cell_type": "code",
   "execution_count": 9,
   "id": "4d585a7e",
   "metadata": {},
   "outputs": [
    {
     "name": "stdout",
     "output_type": "stream",
     "text": [
      "1+4+9+16+25+36\n"
     ]
    }
   ],
   "source": [
    "# 9] 1+4+9+16+25+36\n",
    "\n",
    "n=1\n",
    "while n<=6:\n",
    "    if n < 6:\n",
    "        print(n**2,end=\"+\")\n",
    "    else:\n",
    "        print(n**2)\n",
    "    n+=1"
   ]
  },
  {
   "cell_type": "code",
   "execution_count": 10,
   "id": "f73c9f42",
   "metadata": {},
   "outputs": [
    {
     "name": "stdout",
     "output_type": "stream",
     "text": [
      "1,1,2,3,5,8,13,21\n"
     ]
    }
   ],
   "source": [
    "# 10] 1, 1, 2, 3, 5, 8, 13, 21\n",
    "\n",
    "a=1\n",
    "b=1\n",
    "c=0\n",
    "\n",
    "print(a,end=\",\")\n",
    "print(b,end=\",\")\n",
    "\n",
    "while c!=21:\n",
    "    c=a+b\n",
    "    if c < 21:\n",
    "        print(c,end=\",\")\n",
    "    else:\n",
    "        print(c)\n",
    "    a=b\n",
    "    b=c   "
   ]
  },
  {
   "cell_type": "code",
   "execution_count": 11,
   "id": "a736f50a",
   "metadata": {},
   "outputs": [
    {
     "name": "stdout",
     "output_type": "stream",
     "text": [
      "1,2,4,7,11,16\n"
     ]
    }
   ],
   "source": [
    "# 11] 1, 2, 4, 7, 11, 16\n",
    "\n",
    "n = 1  \n",
    "diff = 1  \n",
    "count = 6 \n",
    "\n",
    "i = 0  \n",
    "while i < count:\n",
    "    if i < count-1:\n",
    "        print(n,end=\",\")\n",
    "    else:\n",
    "        print(n)\n",
    "    n += diff  \n",
    "    diff += 1 \n",
    "    i += 1  "
   ]
  },
  {
   "cell_type": "code",
   "execution_count": 12,
   "id": "3b2e2346",
   "metadata": {},
   "outputs": [
    {
     "name": "stdout",
     "output_type": "stream",
     "text": [
      "Enter a number:123\n",
      "Reversed Number: 321\n"
     ]
    }
   ],
   "source": [
    "# 12] Write a program to read any integer number and print it in reverse.\n",
    "\n",
    "n = int(input(\"Enter a number:\"))\n",
    "rev=str(n)[::-1]\n",
    "print(\"Reversed Number:\", rev)"
   ]
  },
  {
   "cell_type": "code",
   "execution_count": 13,
   "id": "4bb9d680",
   "metadata": {},
   "outputs": [
    {
     "name": "stdout",
     "output_type": "stream",
     "text": [
      "Enter a number: 1234\n",
      "Sum of all values: 10\n"
     ]
    }
   ],
   "source": [
    "# 13] Write a program to read any number and print the sum of all values.\n",
    "#For ex.\tInput - 3564\tOutput - 3+5+6+4 = 18\n",
    "\n",
    "# Write a program to read any number and print the sum of all values.\n",
    "\n",
    "n = int(input(\"Enter a number: \"))\n",
    "add=0\n",
    "\n",
    "while n>0:\n",
    "    digit = n % 10\n",
    "    add += digit\n",
    "    n //= 10\n",
    "print(\"Sum of all values:\",add)"
   ]
  },
  {
   "cell_type": "code",
   "execution_count": 14,
   "id": "548b7cd1",
   "metadata": {},
   "outputs": [
    {
     "name": "stdout",
     "output_type": "stream",
     "text": [
      "Enter a number: 13\n",
      "13 is a prime number\n"
     ]
    }
   ],
   "source": [
    "# 14] Write a program to determine whether a number is prime or not.\n",
    "#(A prime number is one, which is divisible only by 1 or itself only.)\n",
    "\n",
    "n = int(input(\"Enter a number: \"))\n",
    "\n",
    "is_prime = True\n",
    "\n",
    "if n <= 1:\n",
    "    is_prime = False \n",
    "else:\n",
    "    i = 2\n",
    "    while i * i <= n:\n",
    "        if n % i == 0:\n",
    "            is_prime = False\n",
    "            break\n",
    "        i += 1\n",
    "\n",
    "if is_prime == True:\n",
    "    print(n,'is a prime number')\n",
    "else:\n",
    "     print(n,'is not a prime number')\n"
   ]
  },
  {
   "cell_type": "code",
   "execution_count": 15,
   "id": "9895d9e2",
   "metadata": {},
   "outputs": [
    {
     "name": "stdout",
     "output_type": "stream",
     "text": [
      "Enter a number: 153\n",
      "153 is an Armstrong number.\n"
     ]
    }
   ],
   "source": [
    "# 15] Write a Python Program to find out whether a given no. is an Armstrong no. or not.\n",
    "#(Hint : 1**3+ 5**3 + 3**3= 153, is an Armstrong no.)\n",
    "\n",
    "n = int(input(\"Enter a number: \"))\n",
    "temp = n\n",
    "add = 0\n",
    "\n",
    "numlength = len(str(n))\n",
    "\n",
    "while temp > 0:\n",
    "    digit = temp % 10  \n",
    "    add += digit ** numlength\n",
    "    temp //= 10  \n",
    "\n",
    "if add == n:\n",
    "    print(n,\"is an Armstrong number.\")\n",
    "else:\n",
    "    print(n,\" is not an Armstrong number.\")\n"
   ]
  }
 ],
 "metadata": {
  "kernelspec": {
   "display_name": "Python 3 (ipykernel)",
   "language": "python",
   "name": "python3"
  },
  "language_info": {
   "codemirror_mode": {
    "name": "ipython",
    "version": 3
   },
   "file_extension": ".py",
   "mimetype": "text/x-python",
   "name": "python",
   "nbconvert_exporter": "python",
   "pygments_lexer": "ipython3",
   "version": "3.11.5"
  }
 },
 "nbformat": 4,
 "nbformat_minor": 5
}
