{
 "cells": [
  {
   "cell_type": "code",
   "execution_count": 1,
   "id": "fc9f9214",
   "metadata": {},
   "outputs": [
    {
     "name": "stdout",
     "output_type": "stream",
     "text": [
      "Enter a number: 10\n",
      "2 4 8 16 32 64 128 256 512 1024 "
     ]
    }
   ],
   "source": [
    "# 41] Write a Python Program to Generate a Series like 2 4 8 16 32…1048\n",
    "\n",
    "n = int(input(\"Enter a number: \"))\n",
    "i = 1\n",
    "\n",
    "while i<=n: \n",
    "    print(2**i,end=' ')\n",
    "    i+=1"
   ]
  },
  {
   "cell_type": "code",
   "execution_count": 2,
   "id": "d98beb7c",
   "metadata": {},
   "outputs": [
    {
     "name": "stdout",
     "output_type": "stream",
     "text": [
      "Enter a number: 10\n",
      "1 11 20 28 35 41 46 50 53 55 56 "
     ]
    }
   ],
   "source": [
    "# 42] Write a Python Program to Generate a Series like 1 11 20 28 35 41 46 50 53 55 56\n",
    "\n",
    "n = int(input(\"Enter a number: \"))\n",
    "i = 1\n",
    "value=10\n",
    "first= 1\n",
    "\n",
    "print(first,end=\" \") \n",
    "\n",
    "while i<=n:    \n",
    "    first += value\n",
    "    print(first,end=\" \")\n",
    "    value -= 1\n",
    "    i+=1"
   ]
  },
  {
   "cell_type": "code",
   "execution_count": 3,
   "id": "cbb61f21",
   "metadata": {},
   "outputs": [
    {
     "name": "stdout",
     "output_type": "stream",
     "text": [
      "Enter a number: 10\n",
      "1 10 2 9 3 8 4 7 5 6 "
     ]
    }
   ],
   "source": [
    "# 43] Write a Python Program to Generate a Series like 1 10 2 9 3 8 4 7 5 6\n",
    "\n",
    "n = int(input(\"Enter a number: \"))\n",
    "i = 1\n",
    "\n",
    "while i<=n//2:    \n",
    "    print(i,n-i+1,end=\" \")\n",
    "    i+=1"
   ]
  },
  {
   "cell_type": "code",
   "execution_count": 4,
   "id": "88d13280",
   "metadata": {},
   "outputs": [
    {
     "name": "stdout",
     "output_type": "stream",
     "text": [
      "Enter a number: 10\n",
      "2 4 6 8 10 12 14 16 18 20 "
     ]
    }
   ],
   "source": [
    "# 44] Write a Python Program to Generate a Series like 2 4 6\t20\n",
    "\n",
    "n = int(input(\"Enter a number: \"))\n",
    "i = 1\n",
    "\n",
    "while i<=n:    \n",
    "    print(i*2,end=\" \")\n",
    "    i+=1"
   ]
  },
  {
   "cell_type": "code",
   "execution_count": 5,
   "id": "a83dc60f",
   "metadata": {},
   "outputs": [
    {
     "name": "stdout",
     "output_type": "stream",
     "text": [
      "Enter a number: 10\n",
      "5 10 15 20 25 30 35 40 45 50 "
     ]
    }
   ],
   "source": [
    "# 45] Write a Python Program to Generate a Series like 5 10 15 …50\n",
    "\n",
    "n = int(input(\"Enter a number: \"))\n",
    "i = 1\n",
    "\n",
    "while i<=n:    \n",
    "    print(i*5,end=\" \")\n",
    "    i+=1"
   ]
  }
 ],
 "metadata": {
  "kernelspec": {
   "display_name": "Python 3 (ipykernel)",
   "language": "python",
   "name": "python3"
  },
  "language_info": {
   "codemirror_mode": {
    "name": "ipython",
    "version": 3
   },
   "file_extension": ".py",
   "mimetype": "text/x-python",
   "name": "python",
   "nbconvert_exporter": "python",
   "pygments_lexer": "ipython3",
   "version": "3.11.5"
  }
 },
 "nbformat": 4,
 "nbformat_minor": 5
}
