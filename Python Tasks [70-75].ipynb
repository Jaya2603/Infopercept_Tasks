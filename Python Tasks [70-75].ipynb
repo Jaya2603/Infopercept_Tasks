{
 "cells": [
  {
   "cell_type": "code",
   "execution_count": 1,
   "id": "36434b91",
   "metadata": {},
   "outputs": [
    {
     "name": "stdout",
     "output_type": "stream",
     "text": [
      "Enter a number: 3\n",
      "  1 \n",
      " 1 1 \n",
      "1 2 1 \n"
     ]
    }
   ],
   "source": [
    "# 70] Write a Python Program that accept an integer number and generate the following output on the screen: \n",
    "# Input             Output\n",
    "# 1                  1\n",
    "# 2                  1\n",
    "#              1           1\n",
    "# 3                  1\n",
    "#              1           1\n",
    "#           1        2         1\n",
    "# n         ………………\n",
    "\n",
    "n = int(input(\"Enter a number: \"))\n",
    "\n",
    "for i in range(1,n+1):         \n",
    "    print(\" \" *(n-i),end=\"\")   \n",
    "    for j in range(1,i+1):      \n",
    "        if j==1 or j==i:\n",
    "            print(1,end=\" \")      \n",
    "        else:\n",
    "            print(i-1,end=\" \")  \n",
    "    print()                        "
   ]
  },
  {
   "cell_type": "code",
   "execution_count": 2,
   "id": "506c0255",
   "metadata": {},
   "outputs": [
    {
     "name": "stdout",
     "output_type": "stream",
     "text": [
      "Enter a number: 5\n",
      "       * \n",
      "      * * \n",
      "     * * * \n",
      "    * * * * \n",
      "   * * * * * \n"
     ]
    }
   ],
   "source": [
    "# 71] Display the following triangle up to given lines.\n",
    "#     *\n",
    "#    * *\n",
    "#   * * *\n",
    "#  * * * *\n",
    "# * * * * *\n",
    "\n",
    "n = int(input(\"Enter a number: \"))\n",
    "\n",
    "for i in range(n):\n",
    "    print(\" \" *(n-i+1),end=\" \")\n",
    "    for j in range(i+1):\n",
    "        print(\"*\",end=\" \")\n",
    "    print()\n"
   ]
  },
  {
   "cell_type": "code",
   "execution_count": 3,
   "id": "02d715e1",
   "metadata": {},
   "outputs": [
    {
     "name": "stdout",
     "output_type": "stream",
     "text": [
      "Enter a number: 5\n",
      "1 \n",
      "4 5 \n",
      "9 10 11 \n",
      "16 17 18 19 \n",
      "25 26 27 28 29 \n"
     ]
    }
   ],
   "source": [
    "# 72] Write a program to generate following output\n",
    "# 1\n",
    "# 4   5\n",
    "# 9   10  11\n",
    "# 16  17  18  19\n",
    "# .\n",
    "# .\n",
    "# n\n",
    "\n",
    "n = int(input(\"Enter a number: \"))\n",
    "\n",
    "for i in range(1,n+1):\n",
    "    num=i*i\n",
    "    for j in range(i):\n",
    "        print(num,end=' ')\n",
    "        num+=1\n",
    "    print()\n"
   ]
  },
  {
   "cell_type": "code",
   "execution_count": 4,
   "id": "fe517d3c",
   "metadata": {},
   "outputs": [
    {
     "name": "stdout",
     "output_type": "stream",
     "text": [
      "1 0 1 0 1 \n",
      "0 1 0 1 0 \n",
      "1 0 1 0 1 \n",
      "0 1 0 1 0 \n",
      "1 0 1 0 1 \n"
     ]
    }
   ],
   "source": [
    "# 73] Write a program to print output as follow\n",
    "# 1 0 1 0 1\n",
    "# 0 1 0 1 0\n",
    "# 1 0 1 0 1\n",
    "# 0 1 0 1 0\n",
    "# 1 0 1 0 1\n",
    "\n",
    "for i in range(5):  \n",
    "    for j in range(5): \n",
    "        if (i + j) % 2 == 0:  \n",
    "            print(1, end=' ')  \n",
    "        else:\n",
    "            print(0, end=' ')  \n",
    "    print()  "
   ]
  },
  {
   "cell_type": "code",
   "execution_count": 5,
   "id": "b3a21777",
   "metadata": {},
   "outputs": [
    {
     "name": "stdout",
     "output_type": "stream",
     "text": [
      "A B C D E \n",
      "F G H I \n",
      "J K L \n",
      "M N \n",
      "O \n"
     ]
    }
   ],
   "source": [
    "# 74] Write a Python Program to print the following series\n",
    "# A B C D E\n",
    "# F G H I \n",
    "# J K L\n",
    "# M N\n",
    "# O\n",
    "# (Hint : ASCII value of A = 65, B = 66, C = 67……)\n",
    "\n",
    "value = 65\n",
    "\n",
    "for i in range(5):\n",
    "    for j in range(5 - i):\n",
    "        print(chr(value), end=\" \")\n",
    "        value += 1\n",
    "    print()"
   ]
  },
  {
   "cell_type": "code",
   "execution_count": 6,
   "id": "28a4b169",
   "metadata": {},
   "outputs": [
    {
     "name": "stdout",
     "output_type": "stream",
     "text": [
      "Enter text: good morning\n",
      "Numbers of characters:\n",
      "a 0 ; e 0 ; i 1 ; o 3 ; u 0 ; rest 7\n",
      "Percentages of total:\n",
      "a 0%; e 0%; i 9%; o 27%; u 0%; rest 63%\n"
     ]
    }
   ],
   "source": [
    "# 75] Write a program to count the vowels and letters in text given as standard input. Then print out the number of \n",
    "# occurrences of each of the vowels a, e, i, o and u in the text, the total number of letters, and each of the vowels \n",
    "# as an integer percentage of the letter total.\n",
    "\n",
    "# Suggested output format is:\n",
    "\n",
    "# Numbers of characters:\n",
    "# a 3 ; e 2 ; i 0 ; o 1 ; u 0 ; rest 17 \n",
    "\n",
    "# Percentages of total:\n",
    "# a 13%; e  8%; i  0%; o  4%; u  0%; rest 73%\n",
    "\n",
    "text = input(\"Enter text: \")\n",
    "\n",
    "vowel_count = {'a': 0, 'e': 0, 'i': 0, 'o': 0, 'u': 0}\n",
    "total_letters = 0\n",
    "\n",
    "for char in text.lower():\n",
    "    if char.isalpha(): \n",
    "        total_letters += 1\n",
    "        if char in vowel_count:\n",
    "            vowel_count[char] += 1\n",
    "\n",
    "rest_count = total_letters - sum(vowel_count.values())\n",
    "\n",
    "print(\"Numbers of characters:\")\n",
    "print(f\"a {vowel_count['a']} ; e {vowel_count['e']} ; i {vowel_count['i']} ; o {vowel_count['o']} ; u {vowel_count['u']} ; rest {rest_count}\")\n",
    "\n",
    "if total_letters > 0:\n",
    "    print(\"Percentages of total:\")\n",
    "    for v in 'aeiou':\n",
    "        percentage = (vowel_count[v] / total_letters) * 100\n",
    "        print(f\"{v} {int(percentage)}%\", end=\"; \")\n",
    "    rest_percentage = 100 - sum((vowel_count[v] / total_letters) * 100 for v in 'aeiou')\n",
    "    print(f\"rest {int(rest_percentage)}%\")\n",
    "else:\n",
    "    print(\"No letters found.\")"
   ]
  }
 ],
 "metadata": {
  "kernelspec": {
   "display_name": "Python 3 (ipykernel)",
   "language": "python",
   "name": "python3"
  },
  "language_info": {
   "codemirror_mode": {
    "name": "ipython",
    "version": 3
   },
   "file_extension": ".py",
   "mimetype": "text/x-python",
   "name": "python",
   "nbconvert_exporter": "python",
   "pygments_lexer": "ipython3",
   "version": "3.11.5"
  }
 },
 "nbformat": 4,
 "nbformat_minor": 5
}
