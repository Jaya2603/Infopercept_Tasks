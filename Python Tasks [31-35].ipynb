{
 "cells": [
  {
   "cell_type": "code",
   "execution_count": 1,
   "id": "958994a1",
   "metadata": {},
   "outputs": [
    {
     "name": "stdout",
     "output_type": "stream",
     "text": [
      "Enter a number:4\n",
      "The first 4 odd numbers are: 1 3 5 7 \n",
      "The sum of the first 4 odd integers is: 16\n"
     ]
    }
   ],
   "source": [
    "# 31] Calculate the sum of first n odd integers (i.e. 1+3+5..+2n-1)\n",
    "\n",
    "n = int(input(\"Enter a number:\"))\n",
    "\n",
    "odd_no1 = 1\n",
    "\n",
    "print(\"The first\",n,\"odd numbers are:\",end=' ')\n",
    "for i in range(n):\n",
    "    print(odd_no1,end=' ')\n",
    "    odd_no1 += 2\n",
    "\n",
    "add = n ** 2\n",
    "print(\"\\nThe sum of the first\",n,\"odd integers is:\",add)"
   ]
  },
  {
   "cell_type": "code",
   "execution_count": 2,
   "id": "e63de4ba",
   "metadata": {},
   "outputs": [
    {
     "name": "stdout",
     "output_type": "stream",
     "text": [
      "Enter a decimal number: 10\n",
      "Binary form: 0b1010\n",
      "Octal form: 0o12\n",
      "Hexadecimal form: 0xa\n"
     ]
    }
   ],
   "source": [
    "# 32] Input any number in decimal form and print it in Binary, octal and hexadecimal form.\n",
    "\n",
    "decimal_num = int(input(\"Enter a decimal number: \"))\n",
    "\n",
    "binary_form = bin(decimal_num)\n",
    "octal_form = oct(decimal_num)\n",
    "hexadecimal_form = hex(decimal_num)\n",
    "\n",
    "print(\"Binary form:\",binary_form)\n",
    "print(\"Octal form:\",octal_form)\n",
    "print(\"Hexadecimal form:\",hexadecimal_form)"
   ]
  },
  {
   "cell_type": "code",
   "execution_count": 3,
   "id": "20922bb3",
   "metadata": {},
   "outputs": [
    {
     "name": "stdout",
     "output_type": "stream",
     "text": [
      "First 10 Fibonacci numbers that are prime:\n",
      "2 3 5 13 89 233 1597 28657 514229 433494437 "
     ]
    }
   ],
   "source": [
    "# 33] Write a program to print first 10 numbers of fibonacci series, which are prime numbers.\n",
    "\n",
    "def is_prime(num):\n",
    "    if num <= 1:\n",
    "        return False  \n",
    "    for i in range(2, int(num**0.5) + 1):\n",
    "        if num % i == 0:\n",
    "            return False  \n",
    "    return True  \n",
    "\n",
    "def fibonacci():\n",
    "    a, b = 1, 1  \n",
    "    count = 0 \n",
    "    \n",
    "    print(\"First 10 Fibonacci numbers that are prime:\")\n",
    "\n",
    "    while count < 10:\n",
    "        c = a + b  \n",
    "        a, b = b, c  \n",
    "        \n",
    "        if is_prime(c):  \n",
    "            print(c,end=\" \")  \n",
    "            count += 1  \n",
    "\n",
    "fibonacci()"
   ]
  },
  {
   "cell_type": "code",
   "execution_count": 4,
   "id": "ffd6c085",
   "metadata": {},
   "outputs": [
    {
     "name": "stdout",
     "output_type": "stream",
     "text": [
      "Enter a number: 6\n",
      "2 5 10 17 26 37 "
     ]
    }
   ],
   "source": [
    "# 34] Write a program to generate series like 2 5 10 17 26………..n\t(Square + 1 Series)\n",
    "\n",
    "n = int(input(\"Enter a number: \"))\n",
    "i=1\n",
    "while i<=n:\n",
    "    print(i**2+1,end=\" \")\n",
    "    i+=1 "
   ]
  },
  {
   "cell_type": "code",
   "execution_count": 5,
   "id": "8b055737",
   "metadata": {},
   "outputs": [
    {
     "name": "stdout",
     "output_type": "stream",
     "text": [
      "Enter a number: 5\n",
      "1/1! + 2/2! + ... + 5/5! = 2.71\n"
     ]
    }
   ],
   "source": [
    "# 35] Write a Python Program to Calculate a Series like 1/1! + 2/2! +\t+ 10/10!\n",
    "\n",
    "def factorial(n):\n",
    "    if n == 0 or n == 1:\n",
    "        return 1\n",
    "    else:\n",
    "        return n * factorial(n - 1)\n",
    "\n",
    "def calc(n):\n",
    "    add = 0 \n",
    "    i = 1\n",
    "    while i <= n:\n",
    "        add += i / factorial(i)  \n",
    "        i += 1  \n",
    "    return add\n",
    "\n",
    "n = int(input(\"Enter a number: \"))\n",
    "print(f\"1/1! + 2/2! + ... + {n}/{n}! = {calc(n):.2f}\")"
   ]
  }
 ],
 "metadata": {
  "kernelspec": {
   "display_name": "Python 3 (ipykernel)",
   "language": "python",
   "name": "python3"
  },
  "language_info": {
   "codemirror_mode": {
    "name": "ipython",
    "version": 3
   },
   "file_extension": ".py",
   "mimetype": "text/x-python",
   "name": "python",
   "nbconvert_exporter": "python",
   "pygments_lexer": "ipython3",
   "version": "3.11.5"
  }
 },
 "nbformat": 4,
 "nbformat_minor": 5
}
