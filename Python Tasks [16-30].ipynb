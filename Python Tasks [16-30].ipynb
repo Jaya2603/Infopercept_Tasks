{
 "cells": [
  {
   "cell_type": "code",
   "execution_count": 1,
   "id": "ec50cc97",
   "metadata": {},
   "outputs": [
    {
     "name": "stdout",
     "output_type": "stream",
     "text": [
      "Enter a number: 5\n",
      "5 != 120\n"
     ]
    }
   ],
   "source": [
    "# 16] Write a program to find out Factorial of a given number. (e.g. 5! = 120)\n",
    "\n",
    "n = int(input(\"Enter a number: \")) \n",
    "\n",
    "def factorial(n):\n",
    "    if n == 0 or n == 1:\n",
    "        return 1\n",
    "    else:\n",
    "        return n * factorial(n - 1)\n",
    "\n",
    "print(n,'!=', factorial(n))"
   ]
  },
  {
   "cell_type": "code",
   "execution_count": 2,
   "id": "9ecd3f56",
   "metadata": {},
   "outputs": [
    {
     "name": "stdout",
     "output_type": "stream",
     "text": [
      "Enter a number: 6\n",
      "1! + 2! + 3! + ... + {n}! = 873\n"
     ]
    }
   ],
   "source": [
    "# 17] 1! + 2! + 3! + 4! + 5!....n\n",
    "\n",
    "n = int(input(\"Enter a number: \"))  \n",
    "\n",
    "def factorial(n):\n",
    "    if n == 0 or n == 1:\n",
    "        return 1\n",
    "    else:\n",
    "        return n * factorial(n - 1)\n",
    "\n",
    "i = 1\n",
    "sumfact = 0\n",
    "\n",
    "while i <= n:\n",
    "    sumfact += factorial(i)\n",
    "    i += 1 \n",
    "\n",
    "print(\"1! + 2! + 3! + ... + {n}! =\",sumfact)"
   ]
  },
  {
   "cell_type": "code",
   "execution_count": 3,
   "id": "2477b395",
   "metadata": {},
   "outputs": [
    {
     "name": "stdout",
     "output_type": "stream",
     "text": [
      "Enter the number of terms: 6\n",
      "1/2! + 2/3! + 3/4! + 4/5! + ... + 6/7! = 0.9998015873\n"
     ]
    }
   ],
   "source": [
    "# 18] Write a Python Program to generate following series:\n",
    "#1/2! + 2/3! + 3/4! + 4/5! +     (10Terms)\n",
    "\n",
    "def factorial(n):\n",
    "    if n == 0 or n == 1:\n",
    "        return 1\n",
    "    else:\n",
    "        return n * factorial(n - 1)\n",
    "    \n",
    "def calc(n):\n",
    "    sumfact = 0\n",
    "    i = 1  \n",
    "    while i <= n:\n",
    "        sumfact += i /factorial(i + 1)\n",
    "        i += 1  \n",
    "    return sumfact\n",
    "\n",
    "n = int(input(\"Enter the number of terms: \"))\n",
    "print(f\"1/2! + 2/3! + 3/4! + 4/5! + ... + {n}/{n + 1}! = {calc(n):.10f}\")"
   ]
  },
  {
   "cell_type": "code",
   "execution_count": 4,
   "id": "bfb12cab",
   "metadata": {},
   "outputs": [
    {
     "name": "stdout",
     "output_type": "stream",
     "text": [
      "1 + 2 + 3 + 4 + 5 + 6 + 7 + 8 + 9 + 10 = 55\n"
     ]
    }
   ],
   "source": [
    "# 19] Write a Python Program to generate the following: output 1+2+3+4+5+6+7+8+9+10=55\n",
    "\n",
    "total = sum(range(1, 11))\n",
    "print(\"1 + 2 + 3 + 4 + 5 + 6 + 7 + 8 + 9 + 10 =\",total)"
   ]
  },
  {
   "cell_type": "code",
   "execution_count": 5,
   "id": "cae0909f",
   "metadata": {},
   "outputs": [
    {
     "name": "stdout",
     "output_type": "stream",
     "text": [
      "1 2 3 4 5 6 7 8 9 153 370 371 407 "
     ]
    }
   ],
   "source": [
    "# 20] Write a Python Program to print out all Armstrong numbers between 1 to 500.\n",
    "\n",
    "def is_armstrong(n):\n",
    "    temp = n\n",
    "    add = 0\n",
    "\n",
    "    numlength = len(str(n)) \n",
    "\n",
    "    while temp > 0:\n",
    "        digit = temp % 10  \n",
    "        add += digit ** numlength\n",
    "        temp //= 10  \n",
    "\n",
    "    return add == n\n",
    "\n",
    "for i in range(1, 501):\n",
    "    if is_armstrong(i):\n",
    "        print(i,end=\" \")"
   ]
  },
  {
   "cell_type": "code",
   "execution_count": 6,
   "id": "c23379f7",
   "metadata": {},
   "outputs": [
    {
     "name": "stdout",
     "output_type": "stream",
     "text": [
      "Enter a number: 546\n",
      "Reversed number in words: Six Four Five\n"
     ]
    }
   ],
   "source": [
    "# 21] Write a program and to accept any integer number and print the individual number in words. \n",
    "#For ex.\tInput - 546\tOutput – Six Four Five\n",
    "\n",
    "def words_reverse(n):\n",
    "    words = [\"Zero\", \"One\", \"Two\", \"Three\", \"Four\", \"Five\", \"Six\", \"Seven\", \"Eight\", \"Nine\"]\n",
    "    return ' '.join([words[int(w)] for w in reversed(str(n))])\n",
    "\n",
    "n = int(input(\"Enter a number: \"))\n",
    "print(\"Reversed number in words:\",words_reverse(n))"
   ]
  },
  {
   "cell_type": "code",
   "execution_count": 7,
   "id": "a826bef8",
   "metadata": {},
   "outputs": [
    {
     "name": "stdout",
     "output_type": "stream",
     "text": [
      "Enter a number: 546\n",
      "The number in words is: Five Four Six\n"
     ]
    }
   ],
   "source": [
    "# 22] Write a program and to accept any integer number and print the individual number in words. \n",
    "#For ex.\tInput - 546\tOutput – Five Four Six\n",
    "\n",
    "def number_to_words(n):\n",
    "    words = [\"Zero\", \"One\", \"Two\", \"Three\", \"Four\", \"Five\", \"Six\", \"Seven\", \"Eight\", \"Nine\"]\n",
    "    return ' '.join([words[int(w)] for w in str(n)])\n",
    "\n",
    "n = int(input(\"Enter a number: \"))\n",
    "print(\"The number in words is:\",number_to_words(n))"
   ]
  },
  {
   "cell_type": "code",
   "execution_count": 8,
   "id": "71872c9d",
   "metadata": {},
   "outputs": [
    {
     "name": "stdout",
     "output_type": "stream",
     "text": [
      "Enter a number: 12321\n",
      "12321 is a palindrome.\n"
     ]
    }
   ],
   "source": [
    "# 23] Write a Python Program that accept an integer number and determine whether the inputted number is palindrome or not?\n",
    "\n",
    "def is_palindrome(n):\n",
    "    return str(n) == str(n)[::-1]\n",
    "\n",
    "n = int(input(\"Enter a number: \"))\n",
    "\n",
    "if is_palindrome(n):\n",
    "    print(n,\"is a palindrome.\") \n",
    "else:\n",
    "    print(n,\"is not a palindrome.\") "
   ]
  },
  {
   "cell_type": "code",
   "execution_count": 9,
   "id": "96b7fe3a",
   "metadata": {},
   "outputs": [
    {
     "name": "stdout",
     "output_type": "stream",
     "text": [
      "Enter the number: 5\n",
      "0, 1, 1, 2, 3\n",
      "Sum of the first 5 terms of the Fibonacci series is: 7\n"
     ]
    }
   ],
   "source": [
    "# 24] Write a Python Program to do the addition of the first n terms of the fibonacci series.\n",
    "\n",
    "def fibonacci_sum(n):\n",
    "    a = 0  \n",
    "    b = 1 \n",
    "    total = 0\n",
    "    count = 0  \n",
    "\n",
    "    if n >= 1:\n",
    "        print(a, end=\", \")\n",
    "        total += a\n",
    "        count += 1\n",
    "\n",
    "    if n >= 2:\n",
    "        print(b, end=\", \")\n",
    "        total += b\n",
    "        count += 1\n",
    "\n",
    "    while count < n:\n",
    "        c = a + b\n",
    "        a = b\n",
    "        b = c\n",
    "        total += c\n",
    "        count += 1\n",
    "\n",
    "        if count == n:\n",
    "            print(c)  \n",
    "        else:\n",
    "            print(c, end=\", \")\n",
    "\n",
    "    return total\n",
    "\n",
    "n = int(input(\"Enter the number: \"))\n",
    "if n <= 0:\n",
    "    print(\"Please enter a positive integer.\")\n",
    "else:\n",
    "    print(f\"Sum of the first {n} terms of the Fibonacci series is: {fibonacci_sum(n)}\")\n"
   ]
  },
  {
   "cell_type": "code",
   "execution_count": 10,
   "id": "a39bbb79",
   "metadata": {},
   "outputs": [
    {
     "name": "stdout",
     "output_type": "stream",
     "text": [
      "Enter a number: 8\n",
      "2 3 5 9 17 33 65 129 "
     ]
    }
   ],
   "source": [
    "# 25] Generate the following series.\n",
    "#2 3 5 9 17 33 65....n\n",
    "\n",
    "def calc(n):\n",
    "    a = 2\n",
    "    for i in range(n):\n",
    "        print(a, end=\" \")\n",
    "        a = a * 2 - 1\n",
    "\n",
    "n = int(input(\"Enter a number: \"))\n",
    "calc(n)\n"
   ]
  },
  {
   "cell_type": "code",
   "execution_count": 11,
   "id": "6a106c1f",
   "metadata": {},
   "outputs": [
    {
     "name": "stdout",
     "output_type": "stream",
     "text": [
      "Enter the number: 7\n",
      "1 2 2 4 8 32 256 "
     ]
    }
   ],
   "source": [
    "# 26] 1  2  2  4  8  32  256 up to a given range.\n",
    "\n",
    "def calc(n):\n",
    "    a = 1  \n",
    "    b = 2  \n",
    "    print(a, end=\" \")  \n",
    "    \n",
    "    if n > 1:\n",
    "        print(b, end=\" \")  \n",
    "        \n",
    "    for i in range(2, n):\n",
    "        nextnum = a * b  \n",
    "        print(nextnum, end=\" \")\n",
    "        a, b = b, nextnum  \n",
    "\n",
    "n = int(input(\"Enter the number: \"))\n",
    "calc(n)"
   ]
  },
  {
   "cell_type": "code",
   "execution_count": 12,
   "id": "9ac1c710",
   "metadata": {},
   "outputs": [
    {
     "name": "stdout",
     "output_type": "stream",
     "text": [
      "Enter a number: 5\n",
      "The first 5 prime numbers are: [2, 3, 5, 7, 11]\n"
     ]
    }
   ],
   "source": [
    "# 27] Write a program to find first N prime number.\n",
    "\n",
    "def is_prime(n):\n",
    "    if n <= 1:\n",
    "        return False\n",
    "    \n",
    "    i = 2\n",
    "    while i * i <= n:  \n",
    "        if n % i == 0:\n",
    "            return False\n",
    "        i += 1\n",
    "    return True\n",
    "\n",
    "def firstprime(number):\n",
    "    primes = []\n",
    "    num = 2  \n",
    "    while len(primes) < number:\n",
    "        if is_prime(num):  \n",
    "            primes.append(num)  \n",
    "        num += 1  \n",
    "    return primes\n",
    "\n",
    "number = int(input(\"Enter a number: \"))\n",
    "print(f\"The first {number} prime numbers are: {firstprime(number)}\")\n"
   ]
  },
  {
   "cell_type": "code",
   "execution_count": 13,
   "id": "12728ede",
   "metadata": {},
   "outputs": [
    {
     "name": "stdout",
     "output_type": "stream",
     "text": [
      "Enter a number: 8\n",
      "2 3 5 9 17 33 65 129 "
     ]
    }
   ],
   "source": [
    "# 28] Generate the following series.\n",
    "#2 3 5 9 17 33 65....n\n",
    "\n",
    "def calc(n):\n",
    "    a = 2\n",
    "    for i in range(n):\n",
    "        print(a, end=\" \")\n",
    "        a = a * 2 - 1\n",
    "\n",
    "n = int(input(\"Enter a number: \"))\n",
    "calc(n)\n"
   ]
  },
  {
   "cell_type": "code",
   "execution_count": 14,
   "id": "334ac3bf",
   "metadata": {},
   "outputs": [
    {
     "name": "stdout",
     "output_type": "stream",
     "text": [
      "Enter the number: 5\n",
      "1 2 2 4 8 "
     ]
    }
   ],
   "source": [
    "# 29] 1  2  2  4  8  32  256 up to a given range.\n",
    "\n",
    "def calc(n):\n",
    "    a = 1  \n",
    "    b = 2  \n",
    "    print(a, end=\" \")  \n",
    "    \n",
    "    if n > 1:\n",
    "        print(b, end=\" \")  \n",
    "        \n",
    "    for i in range(2, n):\n",
    "        nextnum = a * b  \n",
    "        print(nextnum, end=\" \")\n",
    "        a, b = b, nextnum  \n",
    "\n",
    "n = int(input(\"Enter the number: \"))\n",
    "calc(n)"
   ]
  },
  {
   "cell_type": "code",
   "execution_count": 15,
   "id": "43c4552d",
   "metadata": {},
   "outputs": [
    {
     "name": "stdout",
     "output_type": "stream",
     "text": [
      "Enter a number: 1234\n",
      "The sum of the first and last digit is: 5\n"
     ]
    }
   ],
   "source": [
    "# 30] Write a program to take an integer and find the sum of first and last digit.\n",
    "#Ex.\tInput:\t1234\n",
    "#Output: 5\n",
    "\n",
    "def calc(n):\n",
    "    num = str(n)\n",
    "    first_digit = int(num[0])\n",
    "    last_digit = int(num[-1])\n",
    "    return first_digit + last_digit\n",
    "\n",
    "n = int(input(\"Enter a number: \"))\n",
    "print(\"The sum of the first and last digit is:\",calc(n))"
   ]
  }
 ],
 "metadata": {
  "kernelspec": {
   "display_name": "Python 3 (ipykernel)",
   "language": "python",
   "name": "python3"
  },
  "language_info": {
   "codemirror_mode": {
    "name": "ipython",
    "version": 3
   },
   "file_extension": ".py",
   "mimetype": "text/x-python",
   "name": "python",
   "nbconvert_exporter": "python",
   "pygments_lexer": "ipython3",
   "version": "3.11.5"
  }
 },
 "nbformat": 4,
 "nbformat_minor": 5
}
